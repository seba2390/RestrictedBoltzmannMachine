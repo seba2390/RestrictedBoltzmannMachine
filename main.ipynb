{
 "cells": [
  {
   "cell_type": "code",
   "execution_count": 84,
   "outputs": [],
   "source": [
    "import matplotlib.pyplot as plt\n",
    "import numpy as np\n",
    "from torch.utils.data import DataLoader\n",
    "import torchvision\n",
    "import torch\n",
    "import wandb\n",
    "import os\n",
    "from Util import *\n",
    "from tqdm import tqdm\n",
    "from RBM import *"
   ],
   "metadata": {
    "collapsed": false,
    "pycharm": {
     "name": "#%%\n"
    }
   }
  },
  {
   "cell_type": "code",
   "execution_count": 85,
   "outputs": [
    {
     "name": "stdout",
     "output_type": "stream",
     "text": [
      "nr. datapoints:  1000\n"
     ]
    }
   ],
   "source": [
    "# N.B. don't apply one-hot encoding on labels - we don't need them (unsupervised learning)\n",
    "# Applying ToTensor() transform to change type(data) to torch.Tensor\n",
    "\n",
    "device = torch.device(\"cuda\" if torch.cuda.is_available() else \"cpu\")\n",
    "my_transform_1 = torchvision.transforms.ToTensor()\n",
    "my_transforms = torchvision.transforms.Compose([my_transform_1])\n",
    "\n",
    "# Set download=True first time to acquire dataset\n",
    "_MNIST_DATASET = torchvision.datasets.MNIST(root=\"data/\",\n",
    "                                            download=False,\n",
    "                                            train=True,\n",
    "                                            transform=my_transforms)\n",
    "\n",
    "# Picking out numbers from dataset\n",
    "numbers = [2]\n",
    "_MNIST_DATASET.data = _MNIST_DATASET.data[keep_numbers(numbers,_MNIST_DATASET)][:1000]\n",
    "_MNIST_DATASET.targets = _MNIST_DATASET.targets[keep_numbers(numbers,_MNIST_DATASET)][:1000]\n",
    "print(\"nr. datapoints: \",_MNIST_DATASET.data.__len__())\n",
    "\n",
    "# Transforming to binary\n",
    "DATA = []\n",
    "for datapoint in range(_MNIST_DATASET.data.__len__()):\n",
    "    DATA.append(torch.round((_MNIST_DATASET.data[datapoint]/255)).numpy().flatten().tolist())\n",
    "DATA = torch.tensor(DATA,device=device)"
   ],
   "metadata": {
    "collapsed": false,
    "pycharm": {
     "name": "#%%\n"
    }
   }
  },
  {
   "cell_type": "code",
   "execution_count": 86,
   "outputs": [
    {
     "name": "stdout",
     "output_type": "stream",
     "text": [
      "Initial map: \n"
     ]
    },
    {
     "data": {
      "text/plain": "<Figure size 800x300 with 10 Axes>",
      "image/png": "[encoded data removed]"
     },
     "metadata": {},
     "output_type": "display_data"
    }
   ],
   "source": [
    "print(\"Initial map: \")\n",
    "rows = 2\n",
    "cols = 5\n",
    "fig, ax = plt.subplots(rows,cols, figsize= (8,3))\n",
    "for row in range(rows):\n",
    "    for col in range(cols):\n",
    "        X_hat = DATA[row+col].reshape((28,28)).detach().numpy()\n",
    "        ax[row][col].imshow(X_hat, cmap=\"gray\")\n",
    "plt.show()"
   ],
   "metadata": {
    "collapsed": false,
    "pycharm": {
     "name": "#%%\n"
    }
   }
  },
  {
   "cell_type": "code",
   "execution_count": 87,
   "outputs": [],
   "source": [
    "_hidden_units = int(DATA[0].shape[0] / 1.5)\n",
    "_visible_units = DATA[0].shape[0]\n",
    "\n",
    "my_RBM = RestrictedBoltzmannMachine(hidden_units=_hidden_units,\n",
    "                                    visible_units=_visible_units)"
   ],
   "metadata": {
    "collapsed": false,
    "pycharm": {
     "name": "#%%\n"
    }
   }
  },
  {
   "cell_type": "code",
   "execution_count": 88,
   "outputs": [
    {
     "name": "stdout",
     "output_type": "stream",
     "text": [
      "Using device:  cpu\n"
     ]
    },
    {
     "name": "stderr",
     "output_type": "stream",
     "text": [
      "100%|██████████| 200/200 [03:00<00:00,  1.11it/s]\n"
     ]
    }
   ],
   "source": [
    "my_RBM.train_network(dataset=DATA,lr=0.01,epochs=200,batch_size=50,k=20)"
   ],
   "metadata": {
    "collapsed": false,
    "pycharm": {
     "name": "#%%\n"
    }
   }
  },
  {
   "cell_type": "code",
   "execution_count": 89,
   "outputs": [
    {
     "data": {
      "text/plain": "<Figure size 200x200 with 1 Axes>",
      "image/png": "[encoded data removed]"
     },
     "metadata": {},
     "output_type": "display_data"
    }
   ],
   "source": [
    "datapoint = DATA[12].reshape((_visible_units,1))\n",
    "fig, ax = plt.subplots(1,1, figsize= (2,2))\n",
    "_sample = my_RBM.gibbs_sample(datapoint,steps=1)\n",
    "ax.imshow(datapoint.reshape((28,28)).detach().numpy(), cmap=\"gray\")\n",
    "plt.show()\n"
   ],
   "metadata": {
    "collapsed": false,
    "pycharm": {
     "name": "#%%\n"
    }
   }
  },
  {
   "cell_type": "code",
   "execution_count": 92,
   "outputs": [
    {
     "data": {
      "text/plain": "<Figure size 200x200 with 1 Axes>",
      "image/png": "[encoded data removed]"
     },
     "metadata": {},
     "output_type": "display_data"
    }
   ],
   "source": [
    "fig, ax = plt.subplots(1,1, figsize= (2,2))\n",
    "_sample = my_RBM.gibbs_sample(datapoint,steps=100)\n",
    "ax.imshow(_sample.reshape((28,28)).detach().numpy(), cmap=\"gray\")\n",
    "plt.show()"
   ],
   "metadata": {
    "collapsed": false,
    "pycharm": {
     "name": "#%%\n"
    }
   }
  },
  {
   "cell_type": "code",
   "execution_count": 90,
   "outputs": [],
   "source": [],
   "metadata": {
    "collapsed": false,
    "pycharm": {
     "name": "#%%\n"
    }
   }
  }
 ],
 "metadata": {
  "kernelspec": {
   "display_name": "Python 3",
   "language": "python",
   "name": "python3"
  },
  "language_info": {
   "codemirror_mode": {
    "name": "ipython",
    "version": 2
   },
   "file_extension": ".py",
   "mimetype": "text/x-python",
   "name": "python",
   "nbconvert_exporter": "python",
   "pygments_lexer": "ipython2",
   "version": "2.7.6"
  }
 },
 "nbformat": 4,
 "nbformat_minor": 0
}